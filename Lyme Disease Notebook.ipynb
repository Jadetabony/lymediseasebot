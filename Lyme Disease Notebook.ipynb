{
 "cells": [
  {
   "cell_type": "markdown",
   "metadata": {},
   "source": [
    "# Lyme Disease Notebook\n",
    "\n",
    "The goal of this notebook is to demonstrate how to run the Lyme Disease Bot for ISB\n",
    "\n",
    "## Credential Setup\n",
    "\n",
    "Using the token information in the secrets.json file, setup the Twitter API"
   ]
  },
  {
   "cell_type": "code",
   "execution_count": null,
   "metadata": {
    "collapsed": false
   },
   "outputs": [],
   "source": [
    "import tweepy\n",
    "import re\n",
    "import requests\n",
    "import json\n",
    "\n",
    "# Set important parameters\n",
    "SECRETS_FILE = \"secrets.json\"\n",
    "\n",
    "# Twitter API Token Import\n",
    "with open(SECRETS_FILE) as f:\n",
    "    secrets = json.load(f)\n",
    "    \n",
    "# Use the token to setup the Twitter API\n",
    "auth = tweepy.OAuthHandler(secrets['consumer_key'],secrets['consumer_secret'])\n",
    "auth.set_access_token(secrets['access_token'],secrets['access_secret'])\n",
    "api = tweepy.API(auth)"
   ]
  },
  {
   "cell_type": "markdown",
   "metadata": {},
   "source": [
    "## Pull some info\n",
    "\n",
    "Using the StreamListener object, pull out some specific information. In this case, let's start by looking for things with \"#lyme\""
   ]
  },
  {
   "cell_type": "code",
   "execution_count": null,
   "metadata": {
    "collapsed": false
   },
   "outputs": [],
   "source": [
    "# Create the MyStreamListener object class\n",
    "class MyStreamListener(tweepy.StreamListener):    \n",
    "    # Define a method \"on_status\" that prints the status text\n",
    "    def on_connect(self):\n",
    "        print(\"Connected\")\n",
    "        \n",
    "    def on_status(self,status):\n",
    "        print(status.text)\n",
    "\n",
    "# Create a MyStreamListener Object and filter for #LymeDisease\n",
    "myStreamListener = MyStreamListener()\n",
    "myStream = tweepy.Stream(auth = api.auth, listener=myStreamListener)\n",
    "myStream.filter(track=['#LymeDisease'])"
   ]
  },
  {
   "cell_type": "code",
   "execution_count": null,
   "metadata": {
    "collapsed": false
   },
   "outputs": [],
   "source": []
  },
  {
   "cell_type": "code",
   "execution_count": null,
   "metadata": {
    "collapsed": true
   },
   "outputs": [],
   "source": []
  }
 ],
 "metadata": {
  "kernelspec": {
   "display_name": "Python [Root]",
   "language": "python",
   "name": "Python [Root]"
  },
  "language_info": {
   "codemirror_mode": {
    "name": "ipython",
    "version": 3
   },
   "file_extension": ".py",
   "mimetype": "text/x-python",
   "name": "python",
   "nbconvert_exporter": "python",
   "pygments_lexer": "ipython3",
   "version": "3.5.2"
  }
 },
 "nbformat": 4,
 "nbformat_minor": 0
}
